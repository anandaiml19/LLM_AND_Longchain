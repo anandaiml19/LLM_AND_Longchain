{
 "cells": [
  {
   "cell_type": "code",
   "execution_count": 2,
   "id": "142a0ca4",
   "metadata": {},
   "outputs": [],
   "source": [
    "import os\n",
    "key = os.environ.get('OPENAI_API_KEY')"
   ]
  },
  {
   "cell_type": "code",
   "execution_count": 3,
   "id": "db9d3776",
   "metadata": {},
   "outputs": [
    {
     "name": "stdout",
     "output_type": "stream",
     "text": [
      "Title: What is Artificial General Intelligence? Definition from TechTarget\n",
      "Text: What is artificial general intelligence (AGI)? Artificial general intelligence (AGI) is the representation of generalized human cognitive abilities in software so that, faced with an unfamiliar task, the AGI system could find a solution. The intention of an AGI system is to perform any task that a human being is capable of. Definitions of AGI vary because experts from different fields define human intelligence from different perspectives. Computer scientists often define human intelligence in terms of being able to achieve goals. Psychologists, on the other hand, often define general intelligence in terms of adaptability or survival. AGI is considered to be strong artificial intelligence (AI). Strong AI contrasts with weak or narrow AI, which is the application of artificial intelligence to specific tasks or problems. IBM's Watson supercomputer, expert systems and self-driving cars are examples of narrow AI.\n",
      "\n",
      "AGI vs. AI: What's the difference? Existing artificial intelligence capabilities are referred to as narrow AI when compared with artificial general intelligence. AGI is theoretical, whereas narrow AI is in practical use today. AGI should theoretically be able to perform any task that a human can and exhibit a range of intelligence in different areas without human intervention. Its performance should be as good as or better than humans at solving problems in most areas. In contrast, weak AI excels at completing specific tasks or types of problems. Many existing AI systems use a combination of machine learning (ML), deep learning (a subset of machine learning), reinforcement learning and natural language processing (NLP) for self-improving and to solve specific types of problems. However, these technologies do not approach the cumulative ability of the human brain. Examples of AI in use today include the following: Customer service chatbots.\n",
      "\n",
      "Voice assistants like Apple's Siri and Amazon's Alexa.\n",
      "\n",
      "Recommendation engines such as those Google, Netflix and Spotify use to promote content to users.\n",
      "\n",
      "AI-powered business analytics and business intelligence (BI) tools that conduct data analysis, gauge customer sentiment and present data visualizations for end users.\n",
      "\n",
      "Image and facial recognition applications as well as the deep learning models they use. Existing artificial intelligence capabilities are referred to as narrow AI when compared with artificial general intelligence. AGI is theoretical, whereas narrow AI is in practical use today.\n",
      "\n",
      "Examples of artificial general intelligence True AGI systems are not on the market yet. However, examples exist of narrow artificial intelligence systems that approximate or even exceed human abilities in certain areas. Artificial intelligence research is focused on these systems and what might be possible with AGI in the future. Here are some examples of those systems: IBM's Watson. Watson and other supercomputers are capable of calculations that the average computer can't handle. They combine their immense computing power with AI to carry out previously impossible science and engineering tasks, such as modeling the Big Bang theory of the birth of the universe or the human brain.\n",
      "\n",
      "Watson and other supercomputers are capable of calculations that the average computer can't handle. They combine their immense computing power with AI to carry out previously impossible science and engineering tasks, such as modeling the Big Bang theory of the birth of the universe or the human brain. Expert systems. These AI-based systems mimic human judgement. They can recommend medicine based on patient data and predict molecular structure, for example.\n",
      "\n",
      "These AI-based systems mimic human judgement. They can recommend medicine based on patient data and predict molecular structure, for example. Self-driving cars. These AI-guided vehicles recognize other vehicles, people and objects on the road and adhere to driving rules and regulations.\n",
      "\n",
      "These AI-guided vehicles recognize other vehicles, people and objects on the road and adhere to driving rules and regulations. ROSS Intelligence. ROSS is a legal expert system that is also called the AI attorney . It can mine data from about 1 billion text documents, analyze the information and provide precise responses to complicated questions in less than three seconds.\n",
      "\n",
      "ROSS is a legal expert system that is also called the . It can mine data from about 1 billion text documents, analyze the information and provide precise responses to complicated questions in less than three seconds. AlphaGo. This is another example of narrow intelligence that excels at a specific type of problem solving. AlphaGo is a computer program that can play the board game Go. Go is a complex game that is difficult for humans to master. In 2016, AlphaGo beat the world champion Lee Sedol in a five-game match.\n",
      "\n",
      "This is another example of narrow intelligence that excels at a specific type of problem solving. AlphaGo is a computer program that can play the board game Go. Go is a complex game that is difficult for humans to master. In 2016, AlphaGo beat the world champion Lee Sedol in a five-game match. Language model Generative Pre-trained Transformer. GPT-3 and GPT-4 are release versions of a program from OpenAI that can automatically generate human language. The technology is consistently able to emulate general human intelligence. In some cases, the text is indistinguishable from human output; however, the AI output is often flawed.\n",
      "\n",
      "GPT-3 and GPT-4 are release versions of a program from OpenAI that can automatically generate human language. The technology is consistently able to emulate general human intelligence. In some cases, the text is indistinguishable from human output; however, the AI output is often flawed. Music AIs. Dadabots is an AI algorithm that, given a body of existing music, can generate a stream of its own approximation of that music. If AGI were applied to some of the preceding examples, it could improve their functionality. For example, self-driving cars require a human to be present to handle decision-making in ambiguous situations. The same is true for music-making algorithms, language models and legal systems. These areas include tasks that AI can automate but also ones that require a higher level of abstraction and human intelligence.\n"
     ]
    }
   ],
   "source": [
    "import requests\n",
    "from newspaper import Article\n",
    "\n",
    "headers = {\n",
    "    'User-Agent': 'Mozilla/5.0 (Windows NT 10.0; Win64; x64) AppleWebKit/537.36 (KHTML, like Gecko) Chrome/89.0.4389.82 Safari/537.36'\n",
    "}\n",
    "\n",
    "article_url = \"https://www.techtarget.com/searchenterpriseai/definition/artificial-general-intelligence-AGI/\"\n",
    "\n",
    "session = requests.Session()\n",
    "\n",
    "try:\n",
    "    response = session.get(article_url, headers=headers, timeout=10)\n",
    "    \n",
    "    if response.status_code == 200:\n",
    "        article = Article(article_url)\n",
    "        article.download()\n",
    "        article.parse()\n",
    "        \n",
    "        print(f\"Title: {article.title}\")\n",
    "        print(f\"Text: {article.text}\")\n",
    "        \n",
    "    else:\n",
    "        print(f\"Failed to fetch article at {article_url}\")\n",
    "except Exception as e:\n",
    "    print(f\"Error occurred while fetching article at {article_url}: {e}\")"
   ]
  },
  {
   "cell_type": "code",
   "execution_count": 4,
   "id": "4fc9e7cc",
   "metadata": {},
   "outputs": [],
   "source": [
    "from langchain.schema import (\n",
    "    HumanMessage\n",
    ")\n",
    "\n",
    "# we get the article data from the scraping part\n",
    "article_title = article.title\n",
    "article_text = article.text\n",
    "\n",
    "# prepare template for prompt\n",
    "template = \"\"\"You are a very good assistant that summarizes online articles.\n",
    "\n",
    "Here's the article you want to summarize.\n",
    "\n",
    "==================\n",
    "Title: {article_title}\n",
    "\n",
    "{article_text}\n",
    "==================\n",
    "\n",
    "Write a summary of the previous article.\n",
    "\"\"\"\n",
    "\n",
    "prompt = template.format(article_title=article.title, article_text=article.text)\n",
    "\n",
    "messages = [HumanMessage(content=prompt)]"
   ]
  },
  {
   "cell_type": "code",
   "execution_count": 5,
   "id": "36b92957",
   "metadata": {},
   "outputs": [],
   "source": [
    "from langchain_openai import ChatOpenAI"
   ]
  },
  {
   "cell_type": "markdown",
   "id": "d70edc78",
   "metadata": {},
   "source": [
    "Meta, formerly Facebook, has unveiled an AI supercomputer called the AI Research SuperCluster (RSC) that it claims will be the world's fastest once fully built in mid-2022. The aim is for it to be capable of training models with trillions of parameters and to be used for tasks such as identifying harmful content on its platforms. Meta expects RSC to be 20 times faster than its current V100-based clusters and 9 times faster at running the NVIDIA Collective Communication Library. The supercomputer was designed with security and privacy controls in mind to allow Meta to use real-world examples from its production systems in production training."
   ]
  },
  {
   "cell_type": "code",
   "execution_count": 6,
   "id": "2fea5e03",
   "metadata": {},
   "outputs": [],
   "source": [
    "# prepare template for prompt\n",
    "template = \"\"\"You are an advanced AI assistant that summarizes online articles into bulleted lists.\n",
    "\n",
    "Here's the article you need to summarize.\n",
    "\n",
    "==================\n",
    "Title: {article_title}\n",
    "\n",
    "{article_text}\n",
    "==================\n",
    "\n",
    "Now, provide a summarized version of the article in a bulleted list format.\n",
    "\"\"\"\n",
    "\n",
    "# format prompt\n",
    "prompt = template.format(article_title=article.title, article_text=article.text)"
   ]
  },
  {
   "cell_type": "markdown",
   "id": "1c02e407",
   "metadata": {},
   "source": [
    "- Meta (formerly Facebook) unveils AI Research SuperCluster (RSC), an AI supercomputer claimed to be the world's fastest.\n",
    "- RSC is not yet complete, but researchers are already using it for training large NLP and computer vision models.\n",
    "- The supercomputer is set to be fully built in mid-2022 and aims to train models with trillions of parameters.\n",
    "- Meta hopes RSC will help build new AI systems for real-time voice translations and pave the way for metaverse technologies.\n",
    "- RSC is expected to be 20x faster than Meta's current V100-based clusters in production.\n",
    "- A model with tens of billions of parameters can finish training in three weeks with RSC, compared to nine weeks previously.\n",
    "- RSC is designed with security and privacy controls to allow Meta to use real-world examples from its production systems in training.\n",
    "- Meta believes this is the first time performance, reliability, security, and privacy have been tackled at such a scale."
   ]
  },
  {
   "cell_type": "code",
   "execution_count": null,
   "id": "b50ecb54",
   "metadata": {},
   "outputs": [],
   "source": []
  }
 ],
 "metadata": {
  "kernelspec": {
   "display_name": "Python 3 (ipykernel)",
   "language": "python",
   "name": "python3"
  },
  "language_info": {
   "codemirror_mode": {
    "name": "ipython",
    "version": 3
   },
   "file_extension": ".py",
   "mimetype": "text/x-python",
   "name": "python",
   "nbconvert_exporter": "python",
   "pygments_lexer": "ipython3",
   "version": "3.9.12"
  }
 },
 "nbformat": 4,
 "nbformat_minor": 5
}
